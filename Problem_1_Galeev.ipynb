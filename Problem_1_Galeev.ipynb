{
  "cells": [
    {
      "cell_type": "markdown",
      "metadata": {
        "id": "atqZGIIyNSBb"
      },
      "source": [
        "#**Практическое задание №1**"
      ]
    },
    {
      "cell_type": "markdown",
      "metadata": {
        "id": "0VoOcLozi1Lg"
      },
      "source": [
        "\n",
        "---\n",
        "\n",
        "### Подготовка среды\n",
        "\n",
        "1. Установка пакетов\n",
        "2. Импорт зависимостей\n",
        "3. Монтирование Google Drive\n",
        "4. Задание констант"
      ]
    },
    {
      "cell_type": "code",
      "execution_count": 3,
      "metadata": {
        "colab": {
          "base_uri": "https://localhost:8080/",
          "height": 0
        },
        "id": "TGBk36LpukIu",
        "outputId": "ca724606-d273-40c6-c22f-5875638411f4"
      },
      "outputs": [
        {
          "output_type": "stream",
          "name": "stdout",
          "text": [
            "Requirement already satisfied: gdown in /usr/local/lib/python3.10/dist-packages (5.2.0)\n",
            "Requirement already satisfied: beautifulsoup4 in /usr/local/lib/python3.10/dist-packages (from gdown) (4.12.3)\n",
            "Requirement already satisfied: filelock in /usr/local/lib/python3.10/dist-packages (from gdown) (3.16.1)\n",
            "Requirement already satisfied: requests[socks] in /usr/local/lib/python3.10/dist-packages (from gdown) (2.32.3)\n",
            "Requirement already satisfied: tqdm in /usr/local/lib/python3.10/dist-packages (from gdown) (4.66.6)\n",
            "Requirement already satisfied: soupsieve>1.2 in /usr/local/lib/python3.10/dist-packages (from beautifulsoup4->gdown) (2.6)\n",
            "Requirement already satisfied: charset-normalizer<4,>=2 in /usr/local/lib/python3.10/dist-packages (from requests[socks]->gdown) (3.4.0)\n",
            "Requirement already satisfied: idna<4,>=2.5 in /usr/local/lib/python3.10/dist-packages (from requests[socks]->gdown) (3.10)\n",
            "Requirement already satisfied: urllib3<3,>=1.21.1 in /usr/local/lib/python3.10/dist-packages (from requests[socks]->gdown) (2.2.3)\n",
            "Requirement already satisfied: certifi>=2017.4.17 in /usr/local/lib/python3.10/dist-packages (from requests[socks]->gdown) (2024.8.30)\n",
            "Requirement already satisfied: PySocks!=1.5.7,>=1.5.6 in /usr/local/lib/python3.10/dist-packages (from requests[socks]->gdown) (1.7.1)\n"
          ]
        }
      ],
      "source": [
        "!pip install -q tqdm\n",
        "!pip install --upgrade --no-cache-dir gdown"
      ]
    },
    {
      "cell_type": "code",
      "execution_count": 4,
      "metadata": {
        "id": "kLHQhqiSIyvK"
      },
      "outputs": [],
      "source": [
        "from pathlib import Path\n",
        "import numpy as np\n",
        "from typing import List\n",
        "from tqdm.notebook import tqdm\n",
        "from time import sleep\n",
        "from PIL import Image\n",
        "import IPython.display\n",
        "from sklearn.metrics import balanced_accuracy_score\n",
        "import gdown\n",
        "\n",
        "import torch\n",
        "import torch.nn as nn\n",
        "import torch.optim as optim\n",
        "from torchvision import datasets, models, transforms\n",
        "import matplotlib.pyplot as plt\n",
        "from sklearn.model_selection import KFold"
      ]
    },
    {
      "cell_type": "code",
      "execution_count": 5,
      "metadata": {
        "colab": {
          "base_uri": "https://localhost:8080/",
          "height": 0
        },
        "id": "5G5KkA1Nu5M9",
        "outputId": "6c79d92f-75a4-4b43-d353-84822bf557a7"
      },
      "outputs": [
        {
          "output_type": "stream",
          "name": "stdout",
          "text": [
            "Mounted at /content/drive\n"
          ]
        }
      ],
      "source": [
        "from google.colab import drive\n",
        "drive.mount('/content/drive', force_remount=True)"
      ]
    },
    {
      "cell_type": "code",
      "execution_count": 6,
      "metadata": {
        "id": "lVEBlX8rdMzo"
      },
      "outputs": [],
      "source": [
        "EVALUATE_ONLY = False\n",
        "TEST_ON_LARGE_DATASET = True\n",
        "TISSUE_CLASSES = ('ADI', 'BACK', 'DEB', 'LYM', 'MUC', 'MUS', 'NORM', 'STR', 'TUM')\n",
        "DATASETS_LINKS = {\n",
        "    'train_my': '1mrzCtxJCQUxIlJJRCKXDH0NXMSqpILUm',\n",
        "    'train_small_my': '1V2JXJ5UEtBIaur7Mj6kwDXB9SDDKrF1u',\n",
        "    'train_tiny_my': '1FJVBbHIRvKhsNOZwz1XNvTcv9PrfWpm2',\n",
        "    'test_my': '161F1KVMLU-wbt0-nB6nTzMNSE-7oQ7A8',\n",
        "    'test_small_my': '1gu_9YX2EAmajqS1iHLsUYwm_eENbwzfR',\n",
        "    'test_tiny_my': '1-UWgIiP5OxV-w5YPJorIFU0Sxc7libSg'\n",
        "}"
      ]
    },
    {
      "cell_type": "markdown",
      "metadata": {
        "id": "zKLI3lUyMYO9"
      },
      "source": [
        "---\n",
        "### Класс Dataset\n",
        "\n",
        "Предназначен для работы с наборами данных, обеспечивает чтение изображений и соответствующих меток, а также формирование пакетов (батчей)."
      ]
    },
    {
      "cell_type": "code",
      "execution_count": 7,
      "metadata": {
        "id": "8N169efsw1ej"
      },
      "outputs": [],
      "source": [
        "class Dataset:\n",
        "\n",
        "    def __init__(self, name):\n",
        "        self.name = name\n",
        "        self.is_loaded = False\n",
        "        url = f\"https://drive.google.com/uc?export=download&confirm=pbef&id={DATASETS_LINKS[name]}\"\n",
        "        output = f'{name}.npz'\n",
        "        gdown.download(url, output, quiet=False)\n",
        "        print(f'Loading dataset {self.name} from npz.')\n",
        "        np_obj = np.load(f'{name}.npz')\n",
        "        self.images = np_obj['data']\n",
        "        self.labels = np_obj['labels']\n",
        "        self.n_files = self.images.shape[0]\n",
        "        self.is_loaded = True\n",
        "        print(f'Done. Dataset {name} consists of {self.n_files} images.')\n",
        "\n",
        "    def image(self, i):\n",
        "        # read i-th image in dataset and return it as numpy array\n",
        "        if self.is_loaded:\n",
        "            return self.images[i, :, :, :]\n",
        "\n",
        "    def images_seq(self, n=None):\n",
        "        # sequential access to images inside dataset (is needed for testing)\n",
        "        for i in range(self.n_files if not n else n):\n",
        "            yield self.image(i)\n",
        "\n",
        "    def random_image_with_label(self):\n",
        "        # get random image with label from dataset\n",
        "        i = np.random.randint(self.n_files)\n",
        "        return self.image(i), self.labels[i]\n",
        "\n",
        "    def random_batch_with_labels(self, n):\n",
        "        # create random batch of images with labels (is needed for training)\n",
        "        indices = np.random.choice(self.n_files, n)\n",
        "        imgs = []\n",
        "        for i in indices:\n",
        "            img = self.image(i)\n",
        "            imgs.append(self.image(i))\n",
        "        logits = np.array([self.labels[i] for i in indices])\n",
        "        return np.stack(imgs), logits\n",
        "\n",
        "    def image_with_label(self, i: int):\n",
        "        # return i-th image with label from dataset\n",
        "        return self.image(i), self.labels[i]"
      ]
    },
    {
      "cell_type": "markdown",
      "metadata": {
        "id": "qaBXXCWeVLYb"
      },
      "source": [
        "---\n",
        "\n",
        "### Класс Metrics\n",
        "\n",
        "Реализует метрики точности, используемые для оценивания модели:\n",
        "1. точность,\n",
        "2. сбалансированную точность."
      ]
    },
    {
      "cell_type": "code",
      "execution_count": 8,
      "metadata": {
        "id": "5unQ7azTinCZ"
      },
      "outputs": [],
      "source": [
        "class Metrics:\n",
        "\n",
        "    @staticmethod\n",
        "    def accuracy(gt: List[int], pred: List[int]):\n",
        "        assert len(gt) == len(pred), 'gt and prediction should be of equal length'\n",
        "        return sum(int(i[0] == i[1]) for i in zip(gt, pred)) / len(gt)\n",
        "\n",
        "    @staticmethod\n",
        "    def accuracy_balanced(gt: List[int], pred: List[int]):\n",
        "        return balanced_accuracy_score(gt, pred)\n",
        "\n",
        "    @staticmethod\n",
        "    def print_all(gt: List[int], pred: List[int], info: str):\n",
        "        print(f'metrics for {info}:')\n",
        "        print('\\t accuracy {:.4f}:'.format(Metrics.accuracy(gt, pred)))\n",
        "        print('\\t balanced accuracy {:.4f}:'.format(Metrics.accuracy_balanced(gt, pred)))"
      ]
    },
    {
      "cell_type": "markdown",
      "metadata": {
        "id": "N1AHzTJVGU5k"
      },
      "source": [
        "---\n",
        "### Класс Model\n",
        "\n",
        "Класс, хранящий в себе всю информацию о модели. В качестве модели была выбрана предобученная модель ResNet-50\n"
      ]
    },
    {
      "cell_type": "code",
      "execution_count": 9,
      "metadata": {
        "id": "VnR6nqTaITjc"
      },
      "outputs": [],
      "source": [
        "'''\n",
        "Hyperparameters\n",
        "'''\n",
        "\n",
        "learning_rate = 0.001\n",
        "num_epochs = 10\n",
        "batch_size = 32\n",
        "num_folds = 5"
      ]
    },
    {
      "cell_type": "code",
      "execution_count": 10,
      "metadata": {
        "id": "0pkMiB6mJ7JQ"
      },
      "outputs": [],
      "source": [
        "class Model:\n",
        "\n",
        "    def __init__(self):\n",
        "        self.num_classes = len(TISSUE_CLASSES)\n",
        "        self.learning_rate = learning_rate\n",
        "        self.batch_size = batch_size\n",
        "        self.num_epochs = num_epochs\n",
        "        self.num_folds = num_folds\n",
        "\n",
        "        self.device = torch.device(\"cuda\" if torch.cuda.is_available() else \"cpu\")\n",
        "        self.model = models.resnet18(pretrained=True)\n",
        "\n",
        "        self.model.fc = nn.Linear(self.model.fc.in_features, self.num_classes)\n",
        "        self.model = self.model.to(self.device)\n",
        "\n",
        "        self.criterion = nn.CrossEntropyLoss()\n",
        "        self.optimizer = torch.optim.Adam(self.model.parameters(), lr=self.learning_rate)\n",
        "        pass\n",
        "\n",
        "    def save(self, name: str):\n",
        "        torch.save(self.model.state_dict(), f'/content/drive/MyDrive/{name}.pth')\n",
        "        print(f\"Model saved to '/content/drive/MyDrive/{name}.pth'\")\n",
        "        pass\n",
        "\n",
        "    def test_load(self, name: str):\n",
        "        output = '/content/drive/MyDrive/best.pth'\n",
        "\n",
        "        self.model.load_state_dict(torch.load(output, map_location=self.device))\n",
        "        self.model = self.model.to(self.device)\n",
        "        self.model.eval()\n",
        "        print(f'Model {name} loaded successfully')\n",
        "        pass\n",
        "\n",
        "    def load(self, name: str, key: str):\n",
        "        url = f'https://drive.google.com/uc?export=download&confirm=pbef&id={key}'\n",
        "        output = f'{name}.pth'\n",
        "        gdown.download(url, output, quiet=False)\n",
        "        self.model.load_state_dict(torch.load(output, map_location=self.device))\n",
        "        self.model = self.model.to(self.device)\n",
        "        self.model.eval()\n",
        "        print(f'Model {name} loaded successfully')\n",
        "        pass\n",
        "\n",
        "    def train(self, dataset: Dataset):\n",
        "        # Train with cross-validation\n",
        "        kf = KFold(n_splits=num_folds, shuffle=True, random_state=42)\n",
        "        images = dataset.images\n",
        "        labels = dataset.labels\n",
        "\n",
        "        val_metrics = []\n",
        "        balance_val_metrics = []\n",
        "\n",
        "        #LBL2 - cross-validation\n",
        "        for fold, (train_idx, val_idx) in enumerate(kf.split(images)):\n",
        "            print(f\"Fold {fold + 1}/{num_folds}\")\n",
        "\n",
        "            # Train and validation datasets\n",
        "\n",
        "            #LBL1 - validation\n",
        "            train_images, val_images = images[train_idx], images[val_idx]\n",
        "            train_labels, val_labels = labels[train_idx], labels[val_idx]\n",
        "\n",
        "            self.model.train()\n",
        "\n",
        "            for epoch in range(num_epochs):\n",
        "                epoch_loss = 0.0\n",
        "\n",
        "                n_batches = len(train_images) // batch_size\n",
        "                for _ in range(n_batches):\n",
        "                    batch_images, batch_labels = dataset.random_batch_with_labels(batch_size)\n",
        "\n",
        "                    # Data-tensor transform\n",
        "                    batch_images = torch.tensor(batch_images).float().permute(0, 3, 1, 2).to(self.device) / 255.0\n",
        "                    batch_labels = torch.tensor(batch_labels).long().to(self.device)\n",
        "\n",
        "                    self.optimizer.zero_grad()\n",
        "\n",
        "                    outputs = self.model(batch_images)\n",
        "                    loss = self.criterion(outputs, batch_labels)\n",
        "\n",
        "                    # Backward\n",
        "                    loss.backward()\n",
        "                    self.optimizer.step()\n",
        "\n",
        "                    # Sum loss\n",
        "                    epoch_loss += loss.item()\n",
        "\n",
        "                #LBL4 - show info\n",
        "                print(f\"  Epoch {epoch + 1}/{num_epochs}, Loss: {epoch_loss / n_batches:.4f}\")\n",
        "\n",
        "            val_accuracy, val_balanced_accuracy = self.evaluate(val_images, val_labels)\n",
        "            val_metrics.append(val_accuracy)\n",
        "            balance_val_metrics.append(val_balanced_accuracy)\n",
        "            #LBL4 - show info\n",
        "            print(f\"Validation Accuracy for fold {fold + 1}: {val_accuracy:.4f}\")\n",
        "            print(f\"Validation Balanced Accuracy for fold {fold + 1}: {val_balanced_accuracy:.4f}\")\n",
        "\n",
        "            #LBL3 - model auto-save\n",
        "            self.save(f\"model_fold_{fold + 1}.pth\")\n",
        "            print(f\"Model saved to model_fold_{fold + 1}.pth\")\n",
        "\n",
        "        # Plot visualization\n",
        "        epochs = range(1, self.num_folds + 1)\n",
        "\n",
        "        plt.figure(figsize=(12, 5))\n",
        "\n",
        "        plt.subplot(1, 2, 2)\n",
        "        plt.plot(epochs, val_metrics, label='Validation Accuracy')\n",
        "        plt.title(f'Fold {fold + 1} - Validation Accuracy')\n",
        "        plt.xlabel('Folds')\n",
        "        plt.ylabel('Accuracy')\n",
        "        plt.legend()\n",
        "\n",
        "        plt.subplot(1, 2, 2)\n",
        "        plt.plot(epochs, balance_val_metrics, label='Validation Balanced Accuracy')\n",
        "        plt.title(f'Fold {fold + 1} - Validation Balanced Accuracy')\n",
        "        plt.xlabel('Folds')\n",
        "        plt.ylabel('Balanced Accuracy')\n",
        "        plt.legend()\n",
        "\n",
        "        plt.tight_layout()\n",
        "        plt.show()\n",
        "\n",
        "        pass\n",
        "\n",
        "    def evaluate(self, images, labels):\n",
        "        self.model.eval()\n",
        "        all_predictions = []\n",
        "\n",
        "        for img in images:\n",
        "            pred_label = self.test_on_image(img)\n",
        "            all_predictions.append(pred_label)\n",
        "\n",
        "        accuracy = Metrics.accuracy(labels.tolist(), all_predictions)\n",
        "        balanced_accuracy = Metrics.accuracy_balanced(labels.tolist(), all_predictions)\n",
        "        return accuracy, balanced_accuracy\n",
        "\n",
        "    def test_on_dataset(self, dataset: Dataset, limit=None):\n",
        "        predictions = []\n",
        "        n = dataset.n_files if not limit else int(dataset.n_files * limit)\n",
        "        for img in tqdm(dataset.images_seq(n), total=n):\n",
        "            predictions.append(self.test_on_image(img))\n",
        "        return predictions\n",
        "\n",
        "    def test_on_image(self, img: np.ndarray):\n",
        "        image_tensor = torch.tensor(img).float().permute(2, 0, 1).unsqueeze(0).to(self.device) / 255.0\n",
        "        self.model.eval()\n",
        "\n",
        "        with torch.no_grad():\n",
        "            output = self.model(image_tensor)\n",
        "            _, predicted_label = torch.max(output, 1)\n",
        "\n",
        "        return predicted_label.item()\n"
      ]
    },
    {
      "cell_type": "markdown",
      "metadata": {
        "id": "ZMpTB6lMr00A"
      },
      "source": [
        "---\n",
        "### Классификация изображений"
      ]
    },
    {
      "cell_type": "code",
      "execution_count": 11,
      "metadata": {
        "colab": {
          "base_uri": "https://localhost:8080/",
          "height": 0
        },
        "id": "5cTOuZD01Up6",
        "outputId": "8c328408-907e-43a8-ccc7-073855fdf344"
      },
      "outputs": [
        {
          "output_type": "stream",
          "name": "stderr",
          "text": [
            "Downloading...\n",
            "From: https://drive.google.com/uc?export=download&confirm=pbef&id=1mrzCtxJCQUxIlJJRCKXDH0NXMSqpILUm\n",
            "To: /content/train_my.npz\n",
            "100%|██████████| 2.10G/2.10G [00:22<00:00, 94.7MB/s]\n"
          ]
        },
        {
          "output_type": "stream",
          "name": "stdout",
          "text": [
            "Loading dataset train_my from npz.\n",
            "Done. Dataset train_my consists of 18000 images.\n"
          ]
        },
        {
          "output_type": "stream",
          "name": "stderr",
          "text": [
            "Downloading...\n",
            "From: https://drive.google.com/uc?export=download&confirm=pbef&id=161F1KVMLU-wbt0-nB6nTzMNSE-7oQ7A8\n",
            "To: /content/test_my.npz\n",
            "100%|██████████| 525M/525M [00:08<00:00, 60.5MB/s]\n"
          ]
        },
        {
          "output_type": "stream",
          "name": "stdout",
          "text": [
            "Loading dataset test_my from npz.\n",
            "Done. Dataset test_my consists of 4500 images.\n"
          ]
        }
      ],
      "source": [
        "d_train = Dataset('train_my')\n",
        "d_test = Dataset('test_my')"
      ]
    },
    {
      "cell_type": "code",
      "execution_count": 12,
      "metadata": {
        "colab": {
          "base_uri": "https://localhost:8080/",
          "height": 2099,
          "referenced_widgets": [
            "a91954976da74ad29bcd432e4291c314",
            "05637158d61f433d8fffcd452f5c0127",
            "8def43ea083940ac8fdebc2da5c27ab5",
            "c1f06f80990f42398fc0009917107bce",
            "cca8fbf1517e4084aeade174783931be",
            "739f61d837d2470887c62ab49bd8c376",
            "86847985307c4e40ab6ad7e576dc2f36",
            "9926497b537f4b6dbd6f24a99d4f7c8e",
            "4ac0939d7824423cbb166302c2e4f045",
            "6abcd0034b2c4c4e9912e3a2728437b4",
            "bf72a53223624053ae6b99f780ddcc14",
            "1bcfb84b4c82433394692503d0a8e972",
            "35a7b619fb9443d696add19dbaadb5a9",
            "4483f381c8a643adaeac5b9913350e8b",
            "099ccca17fe843808e87a72487c08ed7",
            "570cfa74fd7644d3bcc984fef23cd242",
            "a64ecc85388e420bb608b9de900cefe1",
            "1ae65091ebba4687b92a93e3ff33c3c2",
            "0482a6a8d85140c7a19b109452412a89",
            "274354d215774dccb5b1d34020c2afb5",
            "6ad01d62282d463c91152b1d7deee4da",
            "cfc1114418b244e6a7957c02301ab8ed"
          ]
        },
        "id": "wBi0XpXg8_wq",
        "outputId": "9d60cbf1-fdd0-47e3-dd01-d3116c8d0c47"
      },
      "outputs": [
        {
          "output_type": "stream",
          "name": "stderr",
          "text": [
            "/usr/local/lib/python3.10/dist-packages/torchvision/models/_utils.py:208: UserWarning: The parameter 'pretrained' is deprecated since 0.13 and may be removed in the future, please use 'weights' instead.\n",
            "  warnings.warn(\n",
            "/usr/local/lib/python3.10/dist-packages/torchvision/models/_utils.py:223: UserWarning: Arguments other than a weight enum or `None` for 'weights' are deprecated since 0.13 and may be removed in the future. The current behavior is equivalent to passing `weights=ResNet18_Weights.IMAGENET1K_V1`. You can also use `weights=ResNet18_Weights.DEFAULT` to get the most up-to-date weights.\n",
            "  warnings.warn(msg)\n"
          ]
        },
        {
          "output_type": "stream",
          "name": "stdout",
          "text": [
            "Fold 1/5\n",
            "  Epoch 1/10, Loss: 0.3987\n",
            "  Epoch 2/10, Loss: 0.2109\n",
            "  Epoch 3/10, Loss: 0.1665\n",
            "  Epoch 4/10, Loss: 0.1440\n",
            "  Epoch 5/10, Loss: 0.1232\n",
            "  Epoch 6/10, Loss: 0.0913\n",
            "  Epoch 7/10, Loss: 0.1003\n",
            "  Epoch 8/10, Loss: 0.0873\n",
            "  Epoch 9/10, Loss: 0.0668\n",
            "  Epoch 10/10, Loss: 0.0722\n",
            "Validation Accuracy for fold 1: 0.9433\n",
            "Validation Balanced Accuracy for fold 1: 0.9424\n",
            "Model saved to '/content/drive/MyDrive/model_fold_1.pth.pth'\n",
            "Model saved to model_fold_1.pth\n",
            "Fold 2/5\n",
            "  Epoch 1/10, Loss: 0.0561\n",
            "  Epoch 2/10, Loss: 0.0647\n",
            "  Epoch 3/10, Loss: 0.0509\n",
            "  Epoch 4/10, Loss: 0.0561\n",
            "  Epoch 5/10, Loss: 0.0579\n",
            "  Epoch 6/10, Loss: 0.0327\n",
            "  Epoch 7/10, Loss: 0.0350\n",
            "  Epoch 8/10, Loss: 0.0399\n",
            "  Epoch 9/10, Loss: 0.0372\n",
            "  Epoch 10/10, Loss: 0.0337\n",
            "Validation Accuracy for fold 2: 0.7939\n",
            "Validation Balanced Accuracy for fold 2: 0.7969\n",
            "Model saved to '/content/drive/MyDrive/model_fold_2.pth.pth'\n",
            "Model saved to model_fold_2.pth\n",
            "Fold 3/5\n",
            "  Epoch 1/10, Loss: 0.0530\n",
            "  Epoch 2/10, Loss: 0.0165\n",
            "  Epoch 3/10, Loss: 0.0275\n",
            "  Epoch 4/10, Loss: 0.0551\n",
            "  Epoch 5/10, Loss: 0.0210\n",
            "  Epoch 6/10, Loss: 0.0161\n",
            "  Epoch 7/10, Loss: 0.0147\n",
            "  Epoch 8/10, Loss: 0.0258\n",
            "  Epoch 9/10, Loss: 0.0132\n",
            "  Epoch 10/10, Loss: 0.0471\n",
            "Validation Accuracy for fold 3: 0.9853\n",
            "Validation Balanced Accuracy for fold 3: 0.9855\n",
            "Model saved to '/content/drive/MyDrive/model_fold_3.pth.pth'\n",
            "Model saved to model_fold_3.pth\n",
            "Fold 4/5\n",
            "  Epoch 1/10, Loss: 0.0161\n",
            "  Epoch 2/10, Loss: 0.0194\n",
            "  Epoch 3/10, Loss: 0.0207\n",
            "  Epoch 4/10, Loss: 0.0226\n",
            "  Epoch 5/10, Loss: 0.0154\n",
            "  Epoch 6/10, Loss: 0.0198\n",
            "  Epoch 7/10, Loss: 0.0186\n",
            "  Epoch 8/10, Loss: 0.0151\n",
            "  Epoch 9/10, Loss: 0.0208\n",
            "  Epoch 10/10, Loss: 0.0057\n",
            "Validation Accuracy for fold 4: 0.9978\n",
            "Validation Balanced Accuracy for fold 4: 0.9977\n",
            "Model saved to '/content/drive/MyDrive/model_fold_4.pth.pth'\n",
            "Model saved to model_fold_4.pth\n",
            "Fold 5/5\n",
            "  Epoch 1/10, Loss: 0.0139\n",
            "  Epoch 2/10, Loss: 0.0244\n",
            "  Epoch 3/10, Loss: 0.0270\n",
            "  Epoch 4/10, Loss: 0.0190\n",
            "  Epoch 5/10, Loss: 0.0157\n",
            "  Epoch 6/10, Loss: 0.0160\n",
            "  Epoch 7/10, Loss: 0.0091\n",
            "  Epoch 8/10, Loss: 0.0166\n",
            "  Epoch 9/10, Loss: 0.0087\n",
            "  Epoch 10/10, Loss: 0.0107\n",
            "Validation Accuracy for fold 5: 0.9853\n",
            "Validation Balanced Accuracy for fold 5: 0.9849\n",
            "Model saved to '/content/drive/MyDrive/model_fold_5.pth.pth'\n",
            "Model saved to model_fold_5.pth\n"
          ]
        },
        {
          "output_type": "display_data",
          "data": {
            "text/plain": [
              "<Figure size 1200x500 with 1 Axes>"
            ],
            "image/png": "[encoded data removed]"
          },
          "metadata": {}
        },
        {
          "output_type": "stream",
          "name": "stdout",
          "text": [
            "Model saved to '/content/drive/MyDrive/best.pth'\n"
          ]
        },
        {
          "output_type": "display_data",
          "data": {
            "text/plain": [
              "  0%|          | 0/4500 [00:00<?, ?it/s]"
            ],
            "application/vnd.jupyter.widget-view+json": {
              "version_major": 2,
              "version_minor": 0,
              "model_id": "a91954976da74ad29bcd432e4291c314"
            }
          },
          "metadata": {}
        },
        {
          "output_type": "stream",
          "name": "stdout",
          "text": [
            "metrics for Trained model Prediction results:\n",
            "\t accuracy 0.9424:\n",
            "\t balanced accuracy 0.9424:\n",
            "Test load\n",
            "Model best loaded successfully\n"
          ]
        },
        {
          "output_type": "stream",
          "name": "stderr",
          "text": [
            "<ipython-input-10-4aaf169f8ecb>:28: FutureWarning: You are using `torch.load` with `weights_only=False` (the current default value), which uses the default pickle module implicitly. It is possible to construct malicious pickle data which will execute arbitrary code during unpickling (See https://github.com/pytorch/pytorch/blob/main/SECURITY.md#untrusted-models for more details). In a future release, the default value for `weights_only` will be flipped to `True`. This limits the functions that could be executed during unpickling. Arbitrary objects will no longer be allowed to be loaded via this mode unless they are explicitly allowlisted by the user via `torch.serialization.add_safe_globals`. We recommend you start setting `weights_only=True` for any use case where you don't have full control of the loaded file. Please open an issue on GitHub for any issues related to this experimental feature.\n",
            "  self.model.load_state_dict(torch.load(output, map_location=self.device))\n"
          ]
        },
        {
          "output_type": "display_data",
          "data": {
            "text/plain": [
              "  0%|          | 0/4500 [00:00<?, ?it/s]"
            ],
            "application/vnd.jupyter.widget-view+json": {
              "version_major": 2,
              "version_minor": 0,
              "model_id": "1bcfb84b4c82433394692503d0a8e972"
            }
          },
          "metadata": {}
        },
        {
          "output_type": "stream",
          "name": "stdout",
          "text": [
            "metrics for Loaded model Prediction results:\n",
            "\t accuracy 0.9424:\n",
            "\t balanced accuracy 0.9424:\n"
          ]
        }
      ],
      "source": [
        "model = Model()\n",
        "if not EVALUATE_ONLY:\n",
        "    model.train(d_train)\n",
        "    model.save('best')\n",
        "\n",
        "    pred = model.test_on_dataset(d_test)\n",
        "    Metrics.print_all(d_test.labels[:len(pred)], pred, \"Trained model Prediction results\")\n",
        "\n",
        "print(\"Test load\")\n",
        "model.test_load('best')\n",
        "pred = model.test_on_dataset(d_test)\n",
        "Metrics.print_all(d_test.labels[:len(pred)], pred, \"Loaded model Prediction results\")"
      ]
    },
    {
      "cell_type": "markdown",
      "metadata": {
        "id": "RzSKAvVI6uCW"
      },
      "source": [
        "### Тестирование модели на других наборах данных\n",
        "\n",
        "Ваша модель должна поддерживать тестирование на других наборах данных. Для удобства, Вам предоставляется набор данных test_tiny, который представляет собой малую часть (2% изображений) набора test. Ниже приведен фрагмент кода, который будет осуществлять тестирование для оценивания Вашей модели на дополнительных тестовых наборах данных.\n",
        "\n",
        "<font color=\"red\">\n",
        "Прежде чем отсылать задание на проверку, убедитесь в работоспособности фрагмента кода ниже.\n",
        "</font>"
      ]
    },
    {
      "cell_type": "code",
      "execution_count": 15,
      "metadata": {
        "colab": {
          "base_uri": "https://localhost:8080/",
          "height": 355,
          "referenced_widgets": [
            "3a42b51ecf374951ad34e9a10672072c",
            "dbfdd53240d0408ab8fe2e5b65addce4",
            "a5e291695e564505920a849ae7400faf",
            "229b5c3511ce44b9aadc28307cec0a99",
            "39f78f9b636b40ad8f5223094499deb6",
            "27f0e8b1b4bb47e3b10a10e8a46e3cf4",
            "2380bafde0d24e83b88d2c2d023d38d3",
            "637a2d33535e4263a960979d91a690f4",
            "4ac05e0dfbfa457182ab26d0d3cf5d25",
            "0000989103bc477ab602bce1b1ecf038",
            "98016eabd6054d5ea2a7b819e30bd065"
          ]
        },
        "id": "sdY3uTt87tqv",
        "outputId": "1cf6c179-41de-42be-8b48-ba70a98504e5"
      },
      "outputs": [
        {
          "output_type": "stream",
          "name": "stderr",
          "text": [
            "Downloading...\n",
            "From: https://drive.google.com/uc?export=download&confirm=pbef&id=1U5dQx50pTZA_IZ9hcY1-3uEbjmzULcfI\n",
            "To: /content/best.pth\n",
            "100%|██████████| 44.8M/44.8M [00:00<00:00, 149MB/s]\n",
            "<ipython-input-10-4aaf169f8ecb>:38: FutureWarning: You are using `torch.load` with `weights_only=False` (the current default value), which uses the default pickle module implicitly. It is possible to construct malicious pickle data which will execute arbitrary code during unpickling (See https://github.com/pytorch/pytorch/blob/main/SECURITY.md#untrusted-models for more details). In a future release, the default value for `weights_only` will be flipped to `True`. This limits the functions that could be executed during unpickling. Arbitrary objects will no longer be allowed to be loaded via this mode unless they are explicitly allowlisted by the user via `torch.serialization.add_safe_globals`. We recommend you start setting `weights_only=True` for any use case where you don't have full control of the loaded file. Please open an issue on GitHub for any issues related to this experimental feature.\n",
            "  self.model.load_state_dict(torch.load(output, map_location=self.device))\n"
          ]
        },
        {
          "output_type": "stream",
          "name": "stdout",
          "text": [
            "Model best loaded successfully\n"
          ]
        },
        {
          "output_type": "stream",
          "name": "stderr",
          "text": [
            "Downloading...\n",
            "From: https://drive.google.com/uc?export=download&confirm=pbef&id=1-UWgIiP5OxV-w5YPJorIFU0Sxc7libSg\n",
            "To: /content/test_tiny_my.npz\n",
            "100%|██████████| 10.6M/10.6M [00:00<00:00, 233MB/s]"
          ]
        },
        {
          "output_type": "stream",
          "name": "stdout",
          "text": [
            "Loading dataset test_tiny_my from npz.\n",
            "Done. Dataset test_tiny_my consists of 90 images.\n"
          ]
        },
        {
          "output_type": "stream",
          "name": "stderr",
          "text": [
            "\n"
          ]
        },
        {
          "output_type": "display_data",
          "data": {
            "text/plain": [
              "  0%|          | 0/90 [00:00<?, ?it/s]"
            ],
            "application/vnd.jupyter.widget-view+json": {
              "version_major": 2,
              "version_minor": 0,
              "model_id": "3a42b51ecf374951ad34e9a10672072c"
            }
          },
          "metadata": {}
        },
        {
          "output_type": "stream",
          "name": "stdout",
          "text": [
            "metrics for test-tiny:\n",
            "\t accuracy 0.8778:\n",
            "\t balanced accuracy 0.8778:\n"
          ]
        }
      ],
      "source": [
        "final_model = Model()\n",
        "final_model.load('best', '1U5dQx50pTZA_IZ9hcY1-3uEbjmzULcfI')\n",
        "d_test_tiny = Dataset('test_tiny_my')\n",
        "pred = model.test_on_dataset(d_test_tiny)\n",
        "Metrics.print_all(d_test_tiny.labels, pred, 'test-tiny')"
      ]
    },
    {
      "cell_type": "markdown",
      "metadata": {
        "id": "lPvyj4gscU10"
      },
      "source": [
        "Отмонтировать Google Drive."
      ]
    },
    {
      "cell_type": "code",
      "execution_count": 16,
      "metadata": {
        "id": "NfX35zNSvFWn"
      },
      "outputs": [],
      "source": [
        "drive.flush_and_unmount()"
      ]
    }
  ],
  "metadata": {
    "colab": {
      "provenance": []
    },
    "kernelspec": {
      "display_name": "Python 3",
      "name": "python3"
    },
    "language_info": {
      "name": "python",
      "version": "3.10.4"
    },
    "vscode": {
      "interpreter": {
        "hash": "7af69d84c46e0da4f71f361435e72c01e713b5d1fcbc89c051c042527a934273"
      }
    },
    "widgets": {
      "application/vnd.jupyter.widget-state+json": {
        "a91954976da74ad29bcd432e4291c314": {
          "model_module": "@jupyter-widgets/controls",
          "model_name": "HBoxModel",
          "model_module_version": "1.5.0",
          "state": {
            "_dom_classes": [],
            "_model_module": "@jupyter-widgets/controls",
            "_model_module_version": "1.5.0",
            "_model_name": "HBoxModel",
            "_view_count": null,
            "_view_module": "@jupyter-widgets/controls",
            "_view_module_version": "1.5.0",
            "_view_name": "HBoxView",
            "box_style": "",
            "children": [
              "IPY_MODEL_05637158d61f433d8fffcd452f5c0127",
              "IPY_MODEL_8def43ea083940ac8fdebc2da5c27ab5",
              "IPY_MODEL_c1f06f80990f42398fc0009917107bce"
            ],
            "layout": "IPY_MODEL_cca8fbf1517e4084aeade174783931be"
          }
        },
        "05637158d61f433d8fffcd452f5c0127": {
          "model_module": "@jupyter-widgets/controls",
          "model_name": "HTMLModel",
          "model_module_version": "1.5.0",
          "state": {
            "_dom_classes": [],
            "_model_module": "@jupyter-widgets/controls",
            "_model_module_version": "1.5.0",
            "_model_name": "HTMLModel",
            "_view_count": null,
            "_view_module": "@jupyter-widgets/controls",
            "_view_module_version": "1.5.0",
            "_view_name": "HTMLView",
            "description": "",
            "description_tooltip": null,
            "layout": "IPY_MODEL_739f61d837d2470887c62ab49bd8c376",
            "placeholder": "​",
            "style": "IPY_MODEL_86847985307c4e40ab6ad7e576dc2f36",
            "value": "100%"
          }
        },
        "8def43ea083940ac8fdebc2da5c27ab5": {
          "model_module": "@jupyter-widgets/controls",
          "model_name": "FloatProgressModel",
          "model_module_version": "1.5.0",
          "state": {
            "_dom_classes": [],
            "_model_module": "@jupyter-widgets/controls",
            "_model_module_version": "1.5.0",
            "_model_name": "FloatProgressModel",
            "_view_count": null,
            "_view_module": "@jupyter-widgets/controls",
            "_view_module_version": "1.5.0",
            "_view_name": "ProgressView",
            "bar_style": "success",
            "description": "",
            "description_tooltip": null,
            "layout": "IPY_MODEL_9926497b537f4b6dbd6f24a99d4f7c8e",
            "max": 4500,
            "min": 0,
            "orientation": "horizontal",
            "style": "IPY_MODEL_4ac0939d7824423cbb166302c2e4f045",
            "value": 4500
          }
        },
        "c1f06f80990f42398fc0009917107bce": {
          "model_module": "@jupyter-widgets/controls",
          "model_name": "HTMLModel",
          "model_module_version": "1.5.0",
          "state": {
            "_dom_classes": [],
            "_model_module": "@jupyter-widgets/controls",
            "_model_module_version": "1.5.0",
            "_model_name": "HTMLModel",
            "_view_count": null,
            "_view_module": "@jupyter-widgets/controls",
            "_view_module_version": "1.5.0",
            "_view_name": "HTMLView",
            "description": "",
            "description_tooltip": null,
            "layout": "IPY_MODEL_6abcd0034b2c4c4e9912e3a2728437b4",
            "placeholder": "​",
            "style": "IPY_MODEL_bf72a53223624053ae6b99f780ddcc14",
            "value": " 4500/4500 [00:19&lt;00:00, 226.56it/s]"
          }
        },
        "cca8fbf1517e4084aeade174783931be": {
          "model_module": "@jupyter-widgets/base",
          "model_name": "LayoutModel",
          "model_module_version": "1.2.0",
          "state": {
            "_model_module": "@jupyter-widgets/base",
            "_model_module_version": "1.2.0",
            "_model_name": "LayoutModel",
            "_view_count": null,
            "_view_module": "@jupyter-widgets/base",
            "_view_module_version": "1.2.0",
            "_view_name": "LayoutView",
            "align_content": null,
            "align_items": null,
            "align_self": null,
            "border": null,
            "bottom": null,
            "display": null,
            "flex": null,
            "flex_flow": null,
            "grid_area": null,
            "grid_auto_columns": null,
            "grid_auto_flow": null,
            "grid_auto_rows": null,
            "grid_column": null,
            "grid_gap": null,
            "grid_row": null,
            "grid_template_areas": null,
            "grid_template_columns": null,
            "grid_template_rows": null,
            "height": null,
            "justify_content": null,
            "justify_items": null,
            "left": null,
            "margin": null,
            "max_height": null,
            "max_width": null,
            "min_height": null,
            "min_width": null,
            "object_fit": null,
            "object_position": null,
            "order": null,
            "overflow": null,
            "overflow_x": null,
            "overflow_y": null,
            "padding": null,
            "right": null,
            "top": null,
            "visibility": null,
            "width": null
          }
        },
        "739f61d837d2470887c62ab49bd8c376": {
          "model_module": "@jupyter-widgets/base",
          "model_name": "LayoutModel",
          "model_module_version": "1.2.0",
          "state": {
            "_model_module": "@jupyter-widgets/base",
            "_model_module_version": "1.2.0",
            "_model_name": "LayoutModel",
            "_view_count": null,
            "_view_module": "@jupyter-widgets/base",
            "_view_module_version": "1.2.0",
            "_view_name": "LayoutView",
            "align_content": null,
            "align_items": null,
            "align_self": null,
            "border": null,
            "bottom": null,
            "display": null,
            "flex": null,
            "flex_flow": null,
            "grid_area": null,
            "grid_auto_columns": null,
            "grid_auto_flow": null,
            "grid_auto_rows": null,
            "grid_column": null,
            "grid_gap": null,
            "grid_row": null,
            "grid_template_areas": null,
            "grid_template_columns": null,
            "grid_template_rows": null,
            "height": null,
            "justify_content": null,
            "justify_items": null,
            "left": null,
            "margin": null,
            "max_height": null,
            "max_width": null,
            "min_height": null,
            "min_width": null,
            "object_fit": null,
            "object_position": null,
            "order": null,
            "overflow": null,
            "overflow_x": null,
            "overflow_y": null,
            "padding": null,
            "right": null,
            "top": null,
            "visibility": null,
            "width": null
          }
        },
        "86847985307c4e40ab6ad7e576dc2f36": {
          "model_module": "@jupyter-widgets/controls",
          "model_name": "DescriptionStyleModel",
          "model_module_version": "1.5.0",
          "state": {
            "_model_module": "@jupyter-widgets/controls",
            "_model_module_version": "1.5.0",
            "_model_name": "DescriptionStyleModel",
            "_view_count": null,
            "_view_module": "@jupyter-widgets/base",
            "_view_module_version": "1.2.0",
            "_view_name": "StyleView",
            "description_width": ""
          }
        },
        "9926497b537f4b6dbd6f24a99d4f7c8e": {
          "model_module": "@jupyter-widgets/base",
          "model_name": "LayoutModel",
          "model_module_version": "1.2.0",
          "state": {
            "_model_module": "@jupyter-widgets/base",
            "_model_module_version": "1.2.0",
            "_model_name": "LayoutModel",
            "_view_count": null,
            "_view_module": "@jupyter-widgets/base",
            "_view_module_version": "1.2.0",
            "_view_name": "LayoutView",
            "align_content": null,
            "align_items": null,
            "align_self": null,
            "border": null,
            "bottom": null,
            "display": null,
            "flex": null,
            "flex_flow": null,
            "grid_area": null,
            "grid_auto_columns": null,
            "grid_auto_flow": null,
            "grid_auto_rows": null,
            "grid_column": null,
            "grid_gap": null,
            "grid_row": null,
            "grid_template_areas": null,
            "grid_template_columns": null,
            "grid_template_rows": null,
            "height": null,
            "justify_content": null,
            "justify_items": null,
            "left": null,
            "margin": null,
            "max_height": null,
            "max_width": null,
            "min_height": null,
            "min_width": null,
            "object_fit": null,
            "object_position": null,
            "order": null,
            "overflow": null,
            "overflow_x": null,
            "overflow_y": null,
            "padding": null,
            "right": null,
            "top": null,
            "visibility": null,
            "width": null
          }
        },
        "4ac0939d7824423cbb166302c2e4f045": {
          "model_module": "@jupyter-widgets/controls",
          "model_name": "ProgressStyleModel",
          "model_module_version": "1.5.0",
          "state": {
            "_model_module": "@jupyter-widgets/controls",
            "_model_module_version": "1.5.0",
            "_model_name": "ProgressStyleModel",
            "_view_count": null,
            "_view_module": "@jupyter-widgets/base",
            "_view_module_version": "1.2.0",
            "_view_name": "StyleView",
            "bar_color": null,
            "description_width": ""
          }
        },
        "6abcd0034b2c4c4e9912e3a2728437b4": {
          "model_module": "@jupyter-widgets/base",
          "model_name": "LayoutModel",
          "model_module_version": "1.2.0",
          "state": {
            "_model_module": "@jupyter-widgets/base",
            "_model_module_version": "1.2.0",
            "_model_name": "LayoutModel",
            "_view_count": null,
            "_view_module": "@jupyter-widgets/base",
            "_view_module_version": "1.2.0",
            "_view_name": "LayoutView",
            "align_content": null,
            "align_items": null,
            "align_self": null,
            "border": null,
            "bottom": null,
            "display": null,
            "flex": null,
            "flex_flow": null,
            "grid_area": null,
            "grid_auto_columns": null,
            "grid_auto_flow": null,
            "grid_auto_rows": null,
            "grid_column": null,
            "grid_gap": null,
            "grid_row": null,
            "grid_template_areas": null,
            "grid_template_columns": null,
            "grid_template_rows": null,
            "height": null,
            "justify_content": null,
            "justify_items": null,
            "left": null,
            "margin": null,
            "max_height": null,
            "max_width": null,
            "min_height": null,
            "min_width": null,
            "object_fit": null,
            "object_position": null,
            "order": null,
            "overflow": null,
            "overflow_x": null,
            "overflow_y": null,
            "padding": null,
            "right": null,
            "top": null,
            "visibility": null,
            "width": null
          }
        },
        "bf72a53223624053ae6b99f780ddcc14": {
          "model_module": "@jupyter-widgets/controls",
          "model_name": "DescriptionStyleModel",
          "model_module_version": "1.5.0",
          "state": {
            "_model_module": "@jupyter-widgets/controls",
            "_model_module_version": "1.5.0",
            "_model_name": "DescriptionStyleModel",
            "_view_count": null,
            "_view_module": "@jupyter-widgets/base",
            "_view_module_version": "1.2.0",
            "_view_name": "StyleView",
            "description_width": ""
          }
        },
        "1bcfb84b4c82433394692503d0a8e972": {
          "model_module": "@jupyter-widgets/controls",
          "model_name": "HBoxModel",
          "model_module_version": "1.5.0",
          "state": {
            "_dom_classes": [],
            "_model_module": "@jupyter-widgets/controls",
            "_model_module_version": "1.5.0",
            "_model_name": "HBoxModel",
            "_view_count": null,
            "_view_module": "@jupyter-widgets/controls",
            "_view_module_version": "1.5.0",
            "_view_name": "HBoxView",
            "box_style": "",
            "children": [
              "IPY_MODEL_35a7b619fb9443d696add19dbaadb5a9",
              "IPY_MODEL_4483f381c8a643adaeac5b9913350e8b",
              "IPY_MODEL_099ccca17fe843808e87a72487c08ed7"
            ],
            "layout": "IPY_MODEL_570cfa74fd7644d3bcc984fef23cd242"
          }
        },
        "35a7b619fb9443d696add19dbaadb5a9": {
          "model_module": "@jupyter-widgets/controls",
          "model_name": "HTMLModel",
          "model_module_version": "1.5.0",
          "state": {
            "_dom_classes": [],
            "_model_module": "@jupyter-widgets/controls",
            "_model_module_version": "1.5.0",
            "_model_name": "HTMLModel",
            "_view_count": null,
            "_view_module": "@jupyter-widgets/controls",
            "_view_module_version": "1.5.0",
            "_view_name": "HTMLView",
            "description": "",
            "description_tooltip": null,
            "layout": "IPY_MODEL_a64ecc85388e420bb608b9de900cefe1",
            "placeholder": "​",
            "style": "IPY_MODEL_1ae65091ebba4687b92a93e3ff33c3c2",
            "value": "100%"
          }
        },
        "4483f381c8a643adaeac5b9913350e8b": {
          "model_module": "@jupyter-widgets/controls",
          "model_name": "FloatProgressModel",
          "model_module_version": "1.5.0",
          "state": {
            "_dom_classes": [],
            "_model_module": "@jupyter-widgets/controls",
            "_model_module_version": "1.5.0",
            "_model_name": "FloatProgressModel",
            "_view_count": null,
            "_view_module": "@jupyter-widgets/controls",
            "_view_module_version": "1.5.0",
            "_view_name": "ProgressView",
            "bar_style": "success",
            "description": "",
            "description_tooltip": null,
            "layout": "IPY_MODEL_0482a6a8d85140c7a19b109452412a89",
            "max": 4500,
            "min": 0,
            "orientation": "horizontal",
            "style": "IPY_MODEL_274354d215774dccb5b1d34020c2afb5",
            "value": 4500
          }
        },
        "099ccca17fe843808e87a72487c08ed7": {
          "model_module": "@jupyter-widgets/controls",
          "model_name": "HTMLModel",
          "model_module_version": "1.5.0",
          "state": {
            "_dom_classes": [],
            "_model_module": "@jupyter-widgets/controls",
            "_model_module_version": "1.5.0",
            "_model_name": "HTMLModel",
            "_view_count": null,
            "_view_module": "@jupyter-widgets/controls",
            "_view_module_version": "1.5.0",
            "_view_name": "HTMLView",
            "description": "",
            "description_tooltip": null,
            "layout": "IPY_MODEL_6ad01d62282d463c91152b1d7deee4da",
            "placeholder": "​",
            "style": "IPY_MODEL_cfc1114418b244e6a7957c02301ab8ed",
            "value": " 4500/4500 [00:20&lt;00:00, 252.06it/s]"
          }
        },
        "570cfa74fd7644d3bcc984fef23cd242": {
          "model_module": "@jupyter-widgets/base",
          "model_name": "LayoutModel",
          "model_module_version": "1.2.0",
          "state": {
            "_model_module": "@jupyter-widgets/base",
            "_model_module_version": "1.2.0",
            "_model_name": "LayoutModel",
            "_view_count": null,
            "_view_module": "@jupyter-widgets/base",
            "_view_module_version": "1.2.0",
            "_view_name": "LayoutView",
            "align_content": null,
            "align_items": null,
            "align_self": null,
            "border": null,
            "bottom": null,
            "display": null,
            "flex": null,
            "flex_flow": null,
            "grid_area": null,
            "grid_auto_columns": null,
            "grid_auto_flow": null,
            "grid_auto_rows": null,
            "grid_column": null,
            "grid_gap": null,
            "grid_row": null,
            "grid_template_areas": null,
            "grid_template_columns": null,
            "grid_template_rows": null,
            "height": null,
            "justify_content": null,
            "justify_items": null,
            "left": null,
            "margin": null,
            "max_height": null,
            "max_width": null,
            "min_height": null,
            "min_width": null,
            "object_fit": null,
            "object_position": null,
            "order": null,
            "overflow": null,
            "overflow_x": null,
            "overflow_y": null,
            "padding": null,
            "right": null,
            "top": null,
            "visibility": null,
            "width": null
          }
        },
        "a64ecc85388e420bb608b9de900cefe1": {
          "model_module": "@jupyter-widgets/base",
          "model_name": "LayoutModel",
          "model_module_version": "1.2.0",
          "state": {
            "_model_module": "@jupyter-widgets/base",
            "_model_module_version": "1.2.0",
            "_model_name": "LayoutModel",
            "_view_count": null,
            "_view_module": "@jupyter-widgets/base",
            "_view_module_version": "1.2.0",
            "_view_name": "LayoutView",
            "align_content": null,
            "align_items": null,
            "align_self": null,
            "border": null,
            "bottom": null,
            "display": null,
            "flex": null,
            "flex_flow": null,
            "grid_area": null,
            "grid_auto_columns": null,
            "grid_auto_flow": null,
            "grid_auto_rows": null,
            "grid_column": null,
            "grid_gap": null,
            "grid_row": null,
            "grid_template_areas": null,
            "grid_template_columns": null,
            "grid_template_rows": null,
            "height": null,
            "justify_content": null,
            "justify_items": null,
            "left": null,
            "margin": null,
            "max_height": null,
            "max_width": null,
            "min_height": null,
            "min_width": null,
            "object_fit": null,
            "object_position": null,
            "order": null,
            "overflow": null,
            "overflow_x": null,
            "overflow_y": null,
            "padding": null,
            "right": null,
            "top": null,
            "visibility": null,
            "width": null
          }
        },
        "1ae65091ebba4687b92a93e3ff33c3c2": {
          "model_module": "@jupyter-widgets/controls",
          "model_name": "DescriptionStyleModel",
          "model_module_version": "1.5.0",
          "state": {
            "_model_module": "@jupyter-widgets/controls",
            "_model_module_version": "1.5.0",
            "_model_name": "DescriptionStyleModel",
            "_view_count": null,
            "_view_module": "@jupyter-widgets/base",
            "_view_module_version": "1.2.0",
            "_view_name": "StyleView",
            "description_width": ""
          }
        },
        "0482a6a8d85140c7a19b109452412a89": {
          "model_module": "@jupyter-widgets/base",
          "model_name": "LayoutModel",
          "model_module_version": "1.2.0",
          "state": {
            "_model_module": "@jupyter-widgets/base",
            "_model_module_version": "1.2.0",
            "_model_name": "LayoutModel",
            "_view_count": null,
            "_view_module": "@jupyter-widgets/base",
            "_view_module_version": "1.2.0",
            "_view_name": "LayoutView",
            "align_content": null,
            "align_items": null,
            "align_self": null,
            "border": null,
            "bottom": null,
            "display": null,
            "flex": null,
            "flex_flow": null,
            "grid_area": null,
            "grid_auto_columns": null,
            "grid_auto_flow": null,
            "grid_auto_rows": null,
            "grid_column": null,
            "grid_gap": null,
            "grid_row": null,
            "grid_template_areas": null,
            "grid_template_columns": null,
            "grid_template_rows": null,
            "height": null,
            "justify_content": null,
            "justify_items": null,
            "left": null,
            "margin": null,
            "max_height": null,
            "max_width": null,
            "min_height": null,
            "min_width": null,
            "object_fit": null,
            "object_position": null,
            "order": null,
            "overflow": null,
            "overflow_x": null,
            "overflow_y": null,
            "padding": null,
            "right": null,
            "top": null,
            "visibility": null,
            "width": null
          }
        },
        "274354d215774dccb5b1d34020c2afb5": {
          "model_module": "@jupyter-widgets/controls",
          "model_name": "ProgressStyleModel",
          "model_module_version": "1.5.0",
          "state": {
            "_model_module": "@jupyter-widgets/controls",
            "_model_module_version": "1.5.0",
            "_model_name": "ProgressStyleModel",
            "_view_count": null,
            "_view_module": "@jupyter-widgets/base",
            "_view_module_version": "1.2.0",
            "_view_name": "StyleView",
            "bar_color": null,
            "description_width": ""
          }
        },
        "6ad01d62282d463c91152b1d7deee4da": {
          "model_module": "@jupyter-widgets/base",
          "model_name": "LayoutModel",
          "model_module_version": "1.2.0",
          "state": {
            "_model_module": "@jupyter-widgets/base",
            "_model_module_version": "1.2.0",
            "_model_name": "LayoutModel",
            "_view_count": null,
            "_view_module": "@jupyter-widgets/base",
            "_view_module_version": "1.2.0",
            "_view_name": "LayoutView",
            "align_content": null,
            "align_items": null,
            "align_self": null,
            "border": null,
            "bottom": null,
            "display": null,
            "flex": null,
            "flex_flow": null,
            "grid_area": null,
            "grid_auto_columns": null,
            "grid_auto_flow": null,
            "grid_auto_rows": null,
            "grid_column": null,
            "grid_gap": null,
            "grid_row": null,
            "grid_template_areas": null,
            "grid_template_columns": null,
            "grid_template_rows": null,
            "height": null,
            "justify_content": null,
            "justify_items": null,
            "left": null,
            "margin": null,
            "max_height": null,
            "max_width": null,
            "min_height": null,
            "min_width": null,
            "object_fit": null,
            "object_position": null,
            "order": null,
            "overflow": null,
            "overflow_x": null,
            "overflow_y": null,
            "padding": null,
            "right": null,
            "top": null,
            "visibility": null,
            "width": null
          }
        },
        "cfc1114418b244e6a7957c02301ab8ed": {
          "model_module": "@jupyter-widgets/controls",
          "model_name": "DescriptionStyleModel",
          "model_module_version": "1.5.0",
          "state": {
            "_model_module": "@jupyter-widgets/controls",
            "_model_module_version": "1.5.0",
            "_model_name": "DescriptionStyleModel",
            "_view_count": null,
            "_view_module": "@jupyter-widgets/base",
            "_view_module_version": "1.2.0",
            "_view_name": "StyleView",
            "description_width": ""
          }
        },
        "3a42b51ecf374951ad34e9a10672072c": {
          "model_module": "@jupyter-widgets/controls",
          "model_name": "HBoxModel",
          "model_module_version": "1.5.0",
          "state": {
            "_dom_classes": [],
            "_model_module": "@jupyter-widgets/controls",
            "_model_module_version": "1.5.0",
            "_model_name": "HBoxModel",
            "_view_count": null,
            "_view_module": "@jupyter-widgets/controls",
            "_view_module_version": "1.5.0",
            "_view_name": "HBoxView",
            "box_style": "",
            "children": [
              "IPY_MODEL_dbfdd53240d0408ab8fe2e5b65addce4",
              "IPY_MODEL_a5e291695e564505920a849ae7400faf",
              "IPY_MODEL_229b5c3511ce44b9aadc28307cec0a99"
            ],
            "layout": "IPY_MODEL_39f78f9b636b40ad8f5223094499deb6"
          }
        },
        "dbfdd53240d0408ab8fe2e5b65addce4": {
          "model_module": "@jupyter-widgets/controls",
          "model_name": "HTMLModel",
          "model_module_version": "1.5.0",
          "state": {
            "_dom_classes": [],
            "_model_module": "@jupyter-widgets/controls",
            "_model_module_version": "1.5.0",
            "_model_name": "HTMLModel",
            "_view_count": null,
            "_view_module": "@jupyter-widgets/controls",
            "_view_module_version": "1.5.0",
            "_view_name": "HTMLView",
            "description": "",
            "description_tooltip": null,
            "layout": "IPY_MODEL_27f0e8b1b4bb47e3b10a10e8a46e3cf4",
            "placeholder": "​",
            "style": "IPY_MODEL_2380bafde0d24e83b88d2c2d023d38d3",
            "value": "100%"
          }
        },
        "a5e291695e564505920a849ae7400faf": {
          "model_module": "@jupyter-widgets/controls",
          "model_name": "FloatProgressModel",
          "model_module_version": "1.5.0",
          "state": {
            "_dom_classes": [],
            "_model_module": "@jupyter-widgets/controls",
            "_model_module_version": "1.5.0",
            "_model_name": "FloatProgressModel",
            "_view_count": null,
            "_view_module": "@jupyter-widgets/controls",
            "_view_module_version": "1.5.0",
            "_view_name": "ProgressView",
            "bar_style": "success",
            "description": "",
            "description_tooltip": null,
            "layout": "IPY_MODEL_637a2d33535e4263a960979d91a690f4",
            "max": 90,
            "min": 0,
            "orientation": "horizontal",
            "style": "IPY_MODEL_4ac05e0dfbfa457182ab26d0d3cf5d25",
            "value": 90
          }
        },
        "229b5c3511ce44b9aadc28307cec0a99": {
          "model_module": "@jupyter-widgets/controls",
          "model_name": "HTMLModel",
          "model_module_version": "1.5.0",
          "state": {
            "_dom_classes": [],
            "_model_module": "@jupyter-widgets/controls",
            "_model_module_version": "1.5.0",
            "_model_name": "HTMLModel",
            "_view_count": null,
            "_view_module": "@jupyter-widgets/controls",
            "_view_module_version": "1.5.0",
            "_view_name": "HTMLView",
            "description": "",
            "description_tooltip": null,
            "layout": "IPY_MODEL_0000989103bc477ab602bce1b1ecf038",
            "placeholder": "​",
            "style": "IPY_MODEL_98016eabd6054d5ea2a7b819e30bd065",
            "value": " 90/90 [00:00&lt;00:00, 226.31it/s]"
          }
        },
        "39f78f9b636b40ad8f5223094499deb6": {
          "model_module": "@jupyter-widgets/base",
          "model_name": "LayoutModel",
          "model_module_version": "1.2.0",
          "state": {
            "_model_module": "@jupyter-widgets/base",
            "_model_module_version": "1.2.0",
            "_model_name": "LayoutModel",
            "_view_count": null,
            "_view_module": "@jupyter-widgets/base",
            "_view_module_version": "1.2.0",
            "_view_name": "LayoutView",
            "align_content": null,
            "align_items": null,
            "align_self": null,
            "border": null,
            "bottom": null,
            "display": null,
            "flex": null,
            "flex_flow": null,
            "grid_area": null,
            "grid_auto_columns": null,
            "grid_auto_flow": null,
            "grid_auto_rows": null,
            "grid_column": null,
            "grid_gap": null,
            "grid_row": null,
            "grid_template_areas": null,
            "grid_template_columns": null,
            "grid_template_rows": null,
            "height": null,
            "justify_content": null,
            "justify_items": null,
            "left": null,
            "margin": null,
            "max_height": null,
            "max_width": null,
            "min_height": null,
            "min_width": null,
            "object_fit": null,
            "object_position": null,
            "order": null,
            "overflow": null,
            "overflow_x": null,
            "overflow_y": null,
            "padding": null,
            "right": null,
            "top": null,
            "visibility": null,
            "width": null
          }
        },
        "27f0e8b1b4bb47e3b10a10e8a46e3cf4": {
          "model_module": "@jupyter-widgets/base",
          "model_name": "LayoutModel",
          "model_module_version": "1.2.0",
          "state": {
            "_model_module": "@jupyter-widgets/base",
            "_model_module_version": "1.2.0",
            "_model_name": "LayoutModel",
            "_view_count": null,
            "_view_module": "@jupyter-widgets/base",
            "_view_module_version": "1.2.0",
            "_view_name": "LayoutView",
            "align_content": null,
            "align_items": null,
            "align_self": null,
            "border": null,
            "bottom": null,
            "display": null,
            "flex": null,
            "flex_flow": null,
            "grid_area": null,
            "grid_auto_columns": null,
            "grid_auto_flow": null,
            "grid_auto_rows": null,
            "grid_column": null,
            "grid_gap": null,
            "grid_row": null,
            "grid_template_areas": null,
            "grid_template_columns": null,
            "grid_template_rows": null,
            "height": null,
            "justify_content": null,
            "justify_items": null,
            "left": null,
            "margin": null,
            "max_height": null,
            "max_width": null,
            "min_height": null,
            "min_width": null,
            "object_fit": null,
            "object_position": null,
            "order": null,
            "overflow": null,
            "overflow_x": null,
            "overflow_y": null,
            "padding": null,
            "right": null,
            "top": null,
            "visibility": null,
            "width": null
          }
        },
        "2380bafde0d24e83b88d2c2d023d38d3": {
          "model_module": "@jupyter-widgets/controls",
          "model_name": "DescriptionStyleModel",
          "model_module_version": "1.5.0",
          "state": {
            "_model_module": "@jupyter-widgets/controls",
            "_model_module_version": "1.5.0",
            "_model_name": "DescriptionStyleModel",
            "_view_count": null,
            "_view_module": "@jupyter-widgets/base",
            "_view_module_version": "1.2.0",
            "_view_name": "StyleView",
            "description_width": ""
          }
        },
        "637a2d33535e4263a960979d91a690f4": {
          "model_module": "@jupyter-widgets/base",
          "model_name": "LayoutModel",
          "model_module_version": "1.2.0",
          "state": {
            "_model_module": "@jupyter-widgets/base",
            "_model_module_version": "1.2.0",
            "_model_name": "LayoutModel",
            "_view_count": null,
            "_view_module": "@jupyter-widgets/base",
            "_view_module_version": "1.2.0",
            "_view_name": "LayoutView",
            "align_content": null,
            "align_items": null,
            "align_self": null,
            "border": null,
            "bottom": null,
            "display": null,
            "flex": null,
            "flex_flow": null,
            "grid_area": null,
            "grid_auto_columns": null,
            "grid_auto_flow": null,
            "grid_auto_rows": null,
            "grid_column": null,
            "grid_gap": null,
            "grid_row": null,
            "grid_template_areas": null,
            "grid_template_columns": null,
            "grid_template_rows": null,
            "height": null,
            "justify_content": null,
            "justify_items": null,
            "left": null,
            "margin": null,
            "max_height": null,
            "max_width": null,
            "min_height": null,
            "min_width": null,
            "object_fit": null,
            "object_position": null,
            "order": null,
            "overflow": null,
            "overflow_x": null,
            "overflow_y": null,
            "padding": null,
            "right": null,
            "top": null,
            "visibility": null,
            "width": null
          }
        },
        "4ac05e0dfbfa457182ab26d0d3cf5d25": {
          "model_module": "@jupyter-widgets/controls",
          "model_name": "ProgressStyleModel",
          "model_module_version": "1.5.0",
          "state": {
            "_model_module": "@jupyter-widgets/controls",
            "_model_module_version": "1.5.0",
            "_model_name": "ProgressStyleModel",
            "_view_count": null,
            "_view_module": "@jupyter-widgets/base",
            "_view_module_version": "1.2.0",
            "_view_name": "StyleView",
            "bar_color": null,
            "description_width": ""
          }
        },
        "0000989103bc477ab602bce1b1ecf038": {
          "model_module": "@jupyter-widgets/base",
          "model_name": "LayoutModel",
          "model_module_version": "1.2.0",
          "state": {
            "_model_module": "@jupyter-widgets/base",
            "_model_module_version": "1.2.0",
            "_model_name": "LayoutModel",
            "_view_count": null,
            "_view_module": "@jupyter-widgets/base",
            "_view_module_version": "1.2.0",
            "_view_name": "LayoutView",
            "align_content": null,
            "align_items": null,
            "align_self": null,
            "border": null,
            "bottom": null,
            "display": null,
            "flex": null,
            "flex_flow": null,
            "grid_area": null,
            "grid_auto_columns": null,
            "grid_auto_flow": null,
            "grid_auto_rows": null,
            "grid_column": null,
            "grid_gap": null,
            "grid_row": null,
            "grid_template_areas": null,
            "grid_template_columns": null,
            "grid_template_rows": null,
            "height": null,
            "justify_content": null,
            "justify_items": null,
            "left": null,
            "margin": null,
            "max_height": null,
            "max_width": null,
            "min_height": null,
            "min_width": null,
            "object_fit": null,
            "object_position": null,
            "order": null,
            "overflow": null,
            "overflow_x": null,
            "overflow_y": null,
            "padding": null,
            "right": null,
            "top": null,
            "visibility": null,
            "width": null
          }
        },
        "98016eabd6054d5ea2a7b819e30bd065": {
          "model_module": "@jupyter-widgets/controls",
          "model_name": "DescriptionStyleModel",
          "model_module_version": "1.5.0",
          "state": {
            "_model_module": "@jupyter-widgets/controls",
            "_model_module_version": "1.5.0",
            "_model_name": "DescriptionStyleModel",
            "_view_count": null,
            "_view_module": "@jupyter-widgets/base",
            "_view_module_version": "1.2.0",
            "_view_name": "StyleView",
            "description_width": ""
          }
        }
      }
    }
  },
  "nbformat": 4,
  "nbformat_minor": 0
}